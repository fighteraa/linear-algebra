{
 "cells": [
  {
   "cell_type": "markdown",
   "metadata": {},
   "source": [
    "## Практическое задание  \n",
    "### Линейное пространство. Основные понятия. Часть 1"
   ]
  },
  {
   "cell_type": "markdown",
   "metadata": {},
   "source": [
    "__1.__ Исследовать на линейную зависимость:\n",
    "$$f_{1}(x)=e^{x}, f_{2}(x)=1, f_{3}(x)=x+1, f_{4}(x)=x-e^{x}.$$"
   ]
  },
  {
   "cell_type": "markdown",
   "metadata": {},
   "source": [
    "Преобразуем $f_{4}(x)$ добавим и вычтем в нем 1  \n",
    "тогда: $f_{4}(x)=x-e^{x}+1-1$  \n",
    "Перепишем: $f_{4}(x)=x+1-e^{x}-1$  \n",
    "$f_{4}(x)=f_{3}(x)-f_{1}(x)-f_{2}(x)$  \n",
    "Т.к. $f_{4}(x)$ Выражается через другие функции делаем вывод, что они линейно зависимые"
   ]
  },
  {
   "cell_type": "markdown",
   "metadata": {},
   "source": [
    "__2.__ Исследовать на линейную зависимость:\n",
    "$$f_{1}(x)=2, f_{2}(x)=x, f_{3}(x)=x^{2}, f_{4}(x)=(x+1)^{2}.$$"
   ]
  },
  {
   "cell_type": "markdown",
   "metadata": {},
   "source": [
    "Раскроем скобки в $f_{4}(x) =(x+1)^{2} = x^{2}+2x+1$  \n",
    "Перепишем $f_{4}(x) = f_{3}(x) + 2f_{2}(x) + 1$  \n",
    "Т.к. функция $f_{1}(x)$ не в входит в выражение $f_{4}(x)$ делаем вывод, что функции линейно независимые"
   ]
  },
  {
   "cell_type": "markdown",
   "metadata": {},
   "source": [
    "__3.__ Найти координаты вектора $x = (2, 3, 5)\\in \\mathbb{R}^{3}$ в базисе $b_{1}=(0, 0, 10)$, $b_{2}=(2, 0, 0)$, $b_{3}=(0, 1, 0)$."
   ]
  },
  {
   "cell_type": "markdown",
   "metadata": {},
   "source": [
    "$x=(2, 3, 5)=(0, 0, 5)+(2, 0, 0)+(0, 3, 0)=0.5\\cdot(0, 0, 10)+1\\cdot(0, 2, 0)+3\\cdot(0, 1, 0)=0.5b_{1}+1b_{2}+3b_{3}$"
   ]
  },
  {
   "cell_type": "markdown",
   "metadata": {},
   "source": [
    "__4.__ Найти координаты вектора $3x^{2}-2x+2\\in\\mathbb{R}^{3}[x]$:\n",
    "\n",
    "   а) в базисе $1$, $x$, $x^{2}$;\n",
    "\n",
    "   б) в базисе $x^{2}$, $x-1$, $1$."
   ]
  },
  {
   "cell_type": "markdown",
   "metadata": {},
   "source": [
    "а) в базисе $b{1}=1$, $b{2}=x$, $b{3}=x^{2}$;  \n",
    "$x=3x^{2}-2x+2=(2, 0, 0)+(0, -2x, 0)+(0, 0, 3x^{2})=2\\cdot(1, 0, 0)-2\\cdot(0, x, 0)+3\\cdot(0, 0, x^{2})=2b_{1}-2b_{2}+3b_{3}$"
   ]
  },
  {
   "cell_type": "markdown",
   "metadata": {},
   "source": [
    "б) в базисе $b{1}=x^{2}$, $b{2}=x-1$, $b{3}=1$  \n",
    "Преобразуем $x$:  \n",
    "$x=3x^{2}-2x+2 = 3x^{2}-2x+2 = 3x^{2}-2\\cdot(x-1)$\n",
    "$x=3x^{2}-2\\cdot(x-1)=(3x^{2}, 0, 0)+(0, -2(x-1), 0)+(0, 0, 0\\cdot1)=3\\cdot(x^{2}, 0, 0)-2\\cdot(0, x-1, 0)+0\\cdot(0, 0, 1)=3b_{1}-2b_{2}+0b_{3}$"
   ]
  },
  {
   "cell_type": "markdown",
   "metadata": {},
   "source": [
    "__5.__ Установить, является ли линейным подпространством:\n",
    "\n",
    "а) совокупность всех векторов трехмерного пространства, у которых по крайней мере одна из первых двух координат равна нулю;\n",
    "    \n",
    "б) все векторы, являющиеся линейными комбинациями данных векторов $\\{u_{1}, u_{2}, ..., u_{n}\\}$."
   ]
  },
  {
   "cell_type": "markdown",
   "metadata": {},
   "source": [
    "__Утверждение__\n",
    "\n",
    "Подмножество $L$ линейного пространства $V$ является его подпространством тогда и только тогда, когда для любых элементов $u, v\\in L$ и любого $\\alpha \\in \\mathbb{R}$ выполняются условия:\n",
    "\n",
    "$$1)\\ u+v\\in L;$$\n",
    "\n",
    "$$2)\\ \\alpha\\cdot u \\in L.$$\n"
   ]
  },
  {
   "cell_type": "markdown",
   "metadata": {},
   "source": [
    "а) совокупность всех векторов трехмерного пространства, у которых по крайней мере одна из первых двух координат равна нулю  \n",
    "совокупность всех векторов трехмерного пространства является линейным подространством, т.к. выполняются 2 условия для подпространства"
   ]
  },
  {
   "cell_type": "markdown",
   "metadata": {},
   "source": [
    "б) все векторы, являющиеся линейными комбинациями данных векторов $\\{u_{1}, u_{2}, ..., u_{n}\\}$.  \n",
    "\n",
    "Для данного задания векторов не веполняются условия 1 и 2 для линейного подпространства."
   ]
  },
  {
   "cell_type": "markdown",
   "metadata": {},
   "source": [
    "### Линейное пространство. Основные понятия. Часть 2"
   ]
  },
  {
   "cell_type": "markdown",
   "metadata": {},
   "source": [
    "__1.__ Найти скалярное произведение векторов $x, y \\in \\mathbb{R}$:<br>\n",
    "а) $x=(0,-3, 6),~y=(-4, 7, 9);$<br>\n",
    "б) $x=(7, -4, 0, 1),~y=(-3, 1, 11, 2).$"
   ]
  },
  {
   "cell_type": "code",
   "execution_count": 1,
   "metadata": {},
   "outputs": [],
   "source": [
    "import numpy as np"
   ]
  },
  {
   "cell_type": "code",
   "execution_count": 3,
   "metadata": {},
   "outputs": [],
   "source": [
    "x1 = np.array([0, -3, 6])\n",
    "y1 = np.array([-4, 7, 9])\n",
    "\n",
    "x2 = np.array([7, -4, 0, 1])\n",
    "y2 = np.array([-3, 1, 11, 2])"
   ]
  },
  {
   "cell_type": "code",
   "execution_count": 4,
   "metadata": {},
   "outputs": [
    {
     "name": "stdout",
     "output_type": "stream",
     "text": [
      "Скалярное произведение векторов [ 0 -3  6] и [-4  7  9]:\n",
      "33\n"
     ]
    }
   ],
   "source": [
    "print(f'Скалярное произведение векторов {x1} и {y1}:\\n{np.dot(x1, y1)}')"
   ]
  },
  {
   "cell_type": "code",
   "execution_count": 5,
   "metadata": {},
   "outputs": [
    {
     "name": "stdout",
     "output_type": "stream",
     "text": [
      "Скалярное произведение векторов [ 7 -4  0  1] и [-3  1 11  2]:\n",
      "-23\n"
     ]
    }
   ],
   "source": [
    "print(f'Скалярное произведение векторов {x2} и {y2}:\\n{np.dot(x2, y2)}')"
   ]
  },
  {
   "cell_type": "markdown",
   "metadata": {},
   "source": [
    "__2.__ Найти нормы векторов $(4, 2, 4)$ и $(12, 3, 4)$ и угол между ними."
   ]
  },
  {
   "cell_type": "code",
   "execution_count": 6,
   "metadata": {},
   "outputs": [],
   "source": [
    "x = np.array([4, 2, 4])\n",
    "y = np.array([12, 3, 4])"
   ]
  },
  {
   "cell_type": "code",
   "execution_count": 40,
   "metadata": {},
   "outputs": [
    {
     "name": "stdout",
     "output_type": "stream",
     "text": [
      "Манхэттенская норма вектора [4 2 4]:\n",
      "10.0\n",
      "Манхэттенская норма вектора [12  3  4]:\n",
      "19.0\n",
      "Евклидову норма вектора [4 2 4]:\n",
      "6.0\n",
      "Евклидову норма вектора  [12  3  4]:\n",
      "13.0\n"
     ]
    }
   ],
   "source": [
    "from numpy.linalg import norm\n",
    "\n",
    "print(f'Манхэттенская норма вектора {x}:\\n{norm(x, ord=1)}')\n",
    "print(f'Манхэттенская норма вектора {y}:\\n{norm(y, ord=1)}')\n",
    "\n",
    "print(f'Евклидову норма вектора {x}:\\n{norm(x, ord=2)}')\n",
    "print(f'Евклидову норма вектора  {y}:\\n{norm(y, ord=2)}')"
   ]
  },
  {
   "cell_type": "code",
   "execution_count": 41,
   "metadata": {},
   "outputs": [
    {
     "name": "stdout",
     "output_type": "stream",
     "text": [
      "Косинус угла между a и b: 0.90\n",
      "Угол между a и b: 0.46\n"
     ]
    }
   ],
   "source": [
    "cos_phi = np.dot(x, y) / norm(x) / norm(y)\n",
    "print(f'Косинус угла между a и b: {cos_phi:.2f}')\n",
    "print(f'Угол между a и b: {np.arccos(cos_phi):.2f}')"
   ]
  },
  {
   "cell_type": "markdown",
   "metadata": {},
   "source": [
    "__3.__ Будет ли линейное пространство евклидовым, если за скалярное произведение принять:<br>\n",
    "а) произведение длин векторов;<br>\n",
    "б) утроенное обычное скалярное произведение векторов?"
   ]
  },
  {
   "cell_type": "markdown",
   "metadata": {},
   "source": [
    "__Определение__\n",
    "\n",
    "Линейное пространство над полем вещественных чисел называется _евклидовым пространством_, если на нем введено правило, согласно которому каждой упорядоченной паре векторов $x$ и $y$ поставлено в соответствие вещественное число, называемое _скалярным произведением_ и обозначаемое символом $(x, y)$.\n",
    "\n",
    "При этом указанное правило должно подчиняться четырем аксиомам:<br>\n",
    "1) $(x,y)=(y,x);$<br>\n",
    "2) $(\\lambda x, y)=\\lambda(x, y);$<br>\n",
    "3) $(x_{1}+x_{2},y)=(x_{1},y)+(x_{2},y);$<br>\n",
    "4) $(x, x)\\geq0$, причем $(x,x)=0\\Leftrightarrow x=0.$"
   ]
  },
  {
   "cell_type": "markdown",
   "metadata": {},
   "source": [
    "В случае __а)__ когда за скалярное произведение принимается произведение длинн векторов, это пространство не будет Евклидовым, т.к. не подчиняется ни одной из аксиом  \n",
    "\n",
    "В случае __б)__ когда скалярное произведение это утроенное обычное скалярное произведение, является Евклидовым пространством, т.к. выполняется вторая аксиома."
   ]
  },
  {
   "cell_type": "markdown",
   "metadata": {},
   "source": [
    "__4.__ Какие из нижеперечисленных векторов образуют ортонормированный базис в линейном пространстве $\\mathbb{R}^{3}$:<br>\n",
    "а) $(1,0,0),(0,0,1);$ <br>\n",
    "б) $(1/\\sqrt{2},-1/\\sqrt{2},0),(1/\\sqrt{2},1/\\sqrt{2},0), (0,0,1);$<br>\n",
    "в) $(1/2, -1/2, 0), (0, 1/2, 1/2), (0,0,1);$<br>\n",
    "г) $(1,0,0),(0,1,0),(0,0,1)?$ "
   ]
  },
  {
   "cell_type": "markdown",
   "metadata": {},
   "source": [
    "Необходимые условия для ортонормированного базиса:  \n",
    "1. векора должны быть ортогональны, т.е. скалярное произведение равно 0  \n",
    "2. Длины векторов должны быть равны 1"
   ]
  },
  {
   "cell_type": "markdown",
   "metadata": {},
   "source": [
    "В варианте а) не образуется ортонормированный базис, т.к. для образования базиса в линейном пространстве $\\mathbb{R}^{3}$ необходимо три вектора."
   ]
  },
  {
   "cell_type": "code",
   "execution_count": 20,
   "metadata": {},
   "outputs": [],
   "source": [
    "import math"
   ]
  },
  {
   "cell_type": "code",
   "execution_count": 26,
   "metadata": {},
   "outputs": [],
   "source": [
    "a2 = np.array([1/math.sqrt(2), -1/math.sqrt(2), 0])\n",
    "b2 = np.array([1/math.sqrt(2), 1/math.sqrt(2), 0])\n",
    "c2 = np.array([0, 0, 1])"
   ]
  },
  {
   "cell_type": "code",
   "execution_count": 30,
   "metadata": {},
   "outputs": [
    {
     "data": {
      "text/plain": [
       "(0.9999999999999999, 0.9999999999999999, 1.0)"
      ]
     },
     "execution_count": 30,
     "metadata": {},
     "output_type": "execute_result"
    }
   ],
   "source": [
    "norm(a2), norm(b2), norm(c2)"
   ]
  },
  {
   "cell_type": "code",
   "execution_count": 31,
   "metadata": {},
   "outputs": [
    {
     "data": {
      "text/plain": [
       "(0.0, 0.0, 0.0)"
      ]
     },
     "execution_count": 31,
     "metadata": {},
     "output_type": "execute_result"
    }
   ],
   "source": [
    "np.dot(a2, b2), np.dot(b2, c2), np.dot(a2, c2)"
   ]
  },
  {
   "cell_type": "markdown",
   "metadata": {},
   "source": [
    "В варианте б) образуется ортонормированный базис.\n",
    "Т.к. есть определенные погрешности в вычислении корней на компьютере предполагаю, что норма векторов a2 и b2 равна 1"
   ]
  },
  {
   "cell_type": "code",
   "execution_count": 32,
   "metadata": {},
   "outputs": [],
   "source": [
    "a3 = np.array([1/2, -1/2, 0])\n",
    "b3 = np.array([0, 1/2, 1/2])\n",
    "c3 = np.array([0, 0, 1])"
   ]
  },
  {
   "cell_type": "code",
   "execution_count": 33,
   "metadata": {},
   "outputs": [
    {
     "data": {
      "text/plain": [
       "(0.7071067811865476, 0.7071067811865476, 1.0)"
      ]
     },
     "execution_count": 33,
     "metadata": {},
     "output_type": "execute_result"
    }
   ],
   "source": [
    "norm(a3), norm(b3), norm(c3)"
   ]
  },
  {
   "cell_type": "code",
   "execution_count": 34,
   "metadata": {
    "scrolled": true
   },
   "outputs": [
    {
     "data": {
      "text/plain": [
       "(-0.25, 0.5, 0.0)"
      ]
     },
     "execution_count": 34,
     "metadata": {},
     "output_type": "execute_result"
    }
   ],
   "source": [
    "np.dot(a3, b3), np.dot(b3, c3), np.dot(a3, c3)"
   ]
  },
  {
   "cell_type": "markdown",
   "metadata": {},
   "source": [
    "В варианте в) не образуется ортонормированный базис. Т.к. не выполняются необходимые условия"
   ]
  },
  {
   "cell_type": "code",
   "execution_count": 35,
   "metadata": {},
   "outputs": [],
   "source": [
    "a4 = np.array([1, 0, 0])\n",
    "b4 = np.array([0, 1, 0])\n",
    "c4 = np.array([0, 0, 1])"
   ]
  },
  {
   "cell_type": "code",
   "execution_count": 36,
   "metadata": {},
   "outputs": [
    {
     "data": {
      "text/plain": [
       "(1.0, 1.0, 1.0)"
      ]
     },
     "execution_count": 36,
     "metadata": {},
     "output_type": "execute_result"
    }
   ],
   "source": [
    "norm(a4), norm(b4), norm(c4)"
   ]
  },
  {
   "cell_type": "code",
   "execution_count": 37,
   "metadata": {},
   "outputs": [
    {
     "data": {
      "text/plain": [
       "(0, 0, 0)"
      ]
     },
     "execution_count": 37,
     "metadata": {},
     "output_type": "execute_result"
    }
   ],
   "source": [
    "np.dot(a4, b4), np.dot(b4, c4), np.dot(a4, c4)"
   ]
  },
  {
   "cell_type": "markdown",
   "metadata": {},
   "source": [
    "В варианте г) образуется ортонормированный базис."
   ]
  }
 ],
 "metadata": {
  "kernelspec": {
   "display_name": "Python 3",
   "language": "python",
   "name": "python3"
  },
  "language_info": {
   "codemirror_mode": {
    "name": "ipython",
    "version": 3
   },
   "file_extension": ".py",
   "mimetype": "text/x-python",
   "name": "python",
   "nbconvert_exporter": "python",
   "pygments_lexer": "ipython3",
   "version": "3.7.1"
  }
 },
 "nbformat": 4,
 "nbformat_minor": 2
}
