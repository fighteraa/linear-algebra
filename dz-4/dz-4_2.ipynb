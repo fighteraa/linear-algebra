{
 "cells": [
  {
   "cell_type": "markdown",
   "metadata": {},
   "source": [
    "## Системы линейных уравнений. Часть 2"
   ]
  },
  {
   "cell_type": "markdown",
   "metadata": {},
   "source": [
    "__1.__ Решить систему уравнений методом Крамера:\n",
    "\n",
    "   а) $\\begin{cases}\n",
    "x_{1}-2x_{2}=1 \\\\\n",
    "3x_{1}-4x_{2}=7\n",
    "\\end{cases}$\n",
    "    \n",
    "   б) $\\begin{cases}\n",
    "2x_{1}-x_{2}+5x_{3}=10 \\\\\n",
    "x_{1}+x_{2}-3x_{3}=-2 \\\\\n",
    "2x_{1}+4x_{2}+x_{3}=1\n",
    "\\end{cases}$\n"
   ]
  },
  {
   "cell_type": "markdown",
   "metadata": {},
   "source": [
    "   а) $\\begin{cases}\n",
    "x_{1}-2x_{2}=1 \\\\\n",
    "3x_{1}-4x_{2}=7\n",
    "\\end{cases}$\n",
    "\n",
    "$$detA=\\begin{vmatrix}\n",
    "1 & -2 \\\\ \n",
    "3 & -4 \\\\ \n",
    "\\end{vmatrix} = -2$$\n",
    "\n",
    "$$detA_{1}=\\begin{vmatrix}\n",
    "1 & -2 \\\\ \n",
    "7 & -4 \\\\ \n",
    "\\end{vmatrix} = -10$$\n",
    "\n",
    "$$detA_{2}=\\begin{vmatrix}\n",
    "1 & 1 \\\\ \n",
    "3 & 7 \\\\ \n",
    "\\end{vmatrix} = -4$$\n",
    "\n",
    "$$x_{1} = \\frac{detA_{1}}{detA} = \\frac{-2}{-10}=0.2,$$\n",
    "\n",
    "$$x_{2} = \\frac{detA_{2}}{detA} = \\frac{-2}{-4}=0.5,$$"
   ]
  },
  {
   "cell_type": "markdown",
   "metadata": {},
   "source": [
    "   б) $\\begin{cases}\n",
    "2x_{1}-x_{2}+5x_{3}=10 \\\\\n",
    "x_{1}+x_{2}-3x_{3}=-2 \\\\\n",
    "2x_{1}+4x_{2}+x_{3}=1\n",
    "\\end{cases}$\n"
   ]
  },
  {
   "cell_type": "markdown",
   "metadata": {},
   "source": [
    "$$detA=\\begin{vmatrix}\n",
    "2 & -1 & 5\\\\ \n",
    "1 & 1 & -3\\\\ \n",
    "2 & 4 & 1\n",
    "\\end{vmatrix}=\n",
    "2\\begin{vmatrix}\n",
    "1 & -3\\\\ \n",
    "4 & 1 \n",
    "\\end{vmatrix}+\n",
    "\\begin{vmatrix}\n",
    "1 & -3\\\\ \n",
    "2 & 1 \n",
    "\\end{vmatrix}+5\n",
    "\\begin{vmatrix}\n",
    "1 & 1 \\\\ \n",
    "2 & 4\n",
    "\\end{vmatrix}=43\\neq 0$$\n",
    "\n",
    "следовательно, система совместна.\n",
    "\n",
    "Найдем определители $detA_{1}$, $detA_{2}$, $detA_{3}$:"
   ]
  },
  {
   "cell_type": "markdown",
   "metadata": {},
   "source": [
    "$$detA_{1}=\\begin{vmatrix}\n",
    "10 & -1 & 5\\\\ \n",
    "-2 & 1 & -3\\\\ \n",
    "1 & 4 & 1\n",
    "\\end{vmatrix}=\n",
    "10\\begin{vmatrix}\n",
    "1 & -3\\\\ \n",
    "4 & 1 \n",
    "\\end{vmatrix}+\n",
    "\\begin{vmatrix}\n",
    "-2 & -3\\\\ \n",
    "1 & 1 \n",
    "\\end{vmatrix}+\n",
    "5\\begin{vmatrix}\n",
    "-2 & 1 \\\\ \n",
    "1 & 4\n",
    "\\end{vmatrix}=86$$"
   ]
  },
  {
   "cell_type": "markdown",
   "metadata": {},
   "source": [
    "$$detA_{2}=\\begin{vmatrix}\n",
    "2 & 10 & 5\\\\ \n",
    "1 & -2 & -3\\\\ \n",
    "2 & 1 & 1\n",
    "\\end{vmatrix}=\n",
    "2\\begin{vmatrix}\n",
    "-2 & -3\\\\ \n",
    "1 & 1 \n",
    "\\end{vmatrix}-\n",
    "10\\begin{vmatrix}\n",
    "1 & -3\\\\ \n",
    "2 & 1 \n",
    "\\end{vmatrix}+5\n",
    "\\begin{vmatrix}\n",
    "1 & -2 \\\\ \n",
    "2 & 1\n",
    "\\end{vmatrix}=-43$$"
   ]
  },
  {
   "cell_type": "markdown",
   "metadata": {},
   "source": [
    "$$detA_{3}=\\begin{vmatrix}\n",
    "2 & -1 & 10\\\\ \n",
    "1 & 1 & -2\\\\ \n",
    "2 & 4 & 1\n",
    "\\end{vmatrix}=\n",
    "2\\begin{vmatrix}\n",
    "1 & -2\\\\ \n",
    "4 & 1 \n",
    "\\end{vmatrix}+\n",
    "\\begin{vmatrix}\n",
    "1 & -2\\\\ \n",
    "2 & 1 \n",
    "\\end{vmatrix}+\n",
    "10\\begin{vmatrix}\n",
    "1 & 1 \\\\ \n",
    "2 & 4\n",
    "\\end{vmatrix}=43$$"
   ]
  },
  {
   "cell_type": "markdown",
   "metadata": {},
   "source": [
    "Найдем решение по формулам Крамера:\n",
    "\n",
    "$$x_{1} = \\frac{detA_{1}}{detA} = \\frac{86}{43}=2,$$\n",
    "\n",
    "$$x_{2} = \\frac{detA_{2}}{detA} = \\frac{-43}{43}=-1,$$\n",
    "\n",
    "$$x_{3} = \\frac{detA_{3}}{detA} = \\frac{43}{43}=1$$"
   ]
  },
  {
   "cell_type": "markdown",
   "metadata": {},
   "source": [
    "Прозведем проверку с помощью python"
   ]
  },
  {
   "cell_type": "code",
   "execution_count": 3,
   "metadata": {},
   "outputs": [
    {
     "name": "stdout",
     "output_type": "stream",
     "text": [
      "Матрица:\n",
      "[[ 2 -1  5]\n",
      " [ 1  1 -3]\n",
      " [ 2  4  1]]\n",
      "Определитель:\n",
      "43\n"
     ]
    }
   ],
   "source": [
    "import numpy as np\n",
    "a = np.array([[2, -1, 5], [1, 1, -3], [2, 4, 1]])\n",
    "print(f'Матрица:\\n{a}')\n",
    "print(f'Определитель:\\n{np.linalg.det(a):.0f}')"
   ]
  },
  {
   "cell_type": "code",
   "execution_count": 10,
   "metadata": {},
   "outputs": [
    {
     "name": "stdout",
     "output_type": "stream",
     "text": [
      "Матрица:\n",
      "[[10 -1  5]\n",
      " [-2  1 -3]\n",
      " [ 1  4  1]]\n",
      "Определитель:\n",
      "86\n"
     ]
    }
   ],
   "source": [
    "a1 = np.array([[10, -1, 5], [-2, 1, -3], [1, 4, 1]])\n",
    "print(f'Матрица:\\n{a1}')\n",
    "print(f'Определитель:\\n{np.linalg.det(a1):.0f}')"
   ]
  },
  {
   "cell_type": "code",
   "execution_count": 11,
   "metadata": {},
   "outputs": [
    {
     "name": "stdout",
     "output_type": "stream",
     "text": [
      "Матрица:\n",
      "[[ 2 10  5]\n",
      " [ 1 -2 -3]\n",
      " [ 2  1  1]]\n",
      "Определитель:\n",
      "-43\n"
     ]
    }
   ],
   "source": [
    "a2 = np.array([[2, 10, 5], [1, -2, -3], [2, 1, 1]])\n",
    "print(f'Матрица:\\n{a2}')\n",
    "print(f'Определитель:\\n{np.linalg.det(a2):.0f}')"
   ]
  },
  {
   "cell_type": "code",
   "execution_count": 12,
   "metadata": {},
   "outputs": [
    {
     "name": "stdout",
     "output_type": "stream",
     "text": [
      "Матрица:\n",
      "[[ 2 -1 10]\n",
      " [ 1  1 -2]\n",
      " [ 2  4  1]]\n",
      "Определитель:\n",
      "43\n"
     ]
    }
   ],
   "source": [
    "a3 = np.array([[2, -1, 10], [1, 1, -2], [2, 4, 1]])\n",
    "print(f'Матрица:\\n{a3}')\n",
    "print(f'Определитель:\\n{np.linalg.det(a3):.0f}')"
   ]
  },
  {
   "cell_type": "markdown",
   "metadata": {},
   "source": [
    "__2.__ Найти $L$-матрицу $LU$-разложения для матрицы коэффициентов:\n",
    "\n",
    "   а)$$\\begin{pmatrix}\n",
    "1 & 2 & 4 \\\\ \n",
    "2 & 9 & 12 \\\\ \n",
    "3 & 26 & 30\n",
    "\\end{pmatrix}$$\n",
    "    \n",
    "   б)$$\\begin{pmatrix}\n",
    "1 & 1 & 2 & 4\\\\ \n",
    "2 & 5 & 8 & 9\\\\ \n",
    "3 & 18 & 29 & 18\\\\\n",
    "4 & 22 & 53 & 33\n",
    "\\end{pmatrix}$$"
   ]
  },
  {
   "cell_type": "markdown",
   "metadata": {},
   "source": [
    "a) Начнем прямой ход метода Гаусса. Для этого домножим первую строку на $2$ и вычтем ее из второго уравнения. При этом запишем в матрицу $L$ на место элемента $l_{21}$ значение $2$. Затем нам нужно вычесть из третьего уравнения первое, домноженное на $3$. Значит, в матрицу $L$ запишем $l_{31}=3$. \n",
    "\n",
    "Матрица коэффициентов будет иметь вид\n",
    "\n",
    "$$\\begin{pmatrix}\n",
    "1 & 2 & 4 \\\\ \n",
    "0 & 14 & 4 \\\\ \n",
    "0 & 20 & 18\n",
    "\\end{pmatrix}$$\n",
    "\n",
    "а матрица $L$ —\n",
    "\n",
    "$$\\begin{pmatrix}\n",
    "1 & 0 & 0 \\\\ \n",
    "2 & 1 & 0 \\\\ \n",
    "3 & l_{32} & 1\n",
    "\\end{pmatrix}$$"
   ]
  },
  {
   "cell_type": "markdown",
   "metadata": {},
   "source": [
    "Далее умножим вторую строку на $10/7$ и вычтем ее из третьей. При этом в матрицу $L$ на место $l_{32}$ запишем $10/7$.\n",
    "\n",
    "В итоге получим\n",
    "\n",
    "$$U=\\begin{pmatrix}\n",
    "1 & 2 & 4 \\\\ \n",
    "0 & 14 & 4 \\\\ \n",
    "0 & 0 & -16.2\n",
    "\\end{pmatrix}$$\n",
    "\n",
    "$$L=\\begin{pmatrix}\n",
    "1 & 0 & 0 \\\\ \n",
    "2 & 1 & 0 \\\\ \n",
    "3 & 10/7 & 1\n",
    "\\end{pmatrix}$$"
   ]
  },
  {
   "cell_type": "markdown",
   "metadata": {},
   "source": [
    "   б)$$\\begin{pmatrix}\n",
    "1 & 1 & 2 & 4\\\\ \n",
    "2 & 5 & 8 & 9\\\\ \n",
    "3 & 18 & 29 & 18\\\\\n",
    "4 & 22 & 53 & 33\n",
    "\\end{pmatrix}$$"
   ]
  },
  {
   "cell_type": "markdown",
   "metadata": {},
   "source": [
    "__4.__ Решить систему линейных уравнений методом Холецкого\n",
    "\n",
    "$$\\begin{cases}\n",
    "81x_{1}-45x_{2}+45x_{3}=531 \\\\\n",
    "-45x_{1}+50x_{2}-15x_{3}=-460 \\\\\n",
    "45x_{1}-15x_{2}+38x_{3}=193\n",
    "\\end{cases}$$"
   ]
  },
  {
   "cell_type": "markdown",
   "metadata": {},
   "source": [
    "Произведем разложение на $LL^{T}$:\n",
    "\n",
    "$$l_{11}=\\sqrt{a_{11}}=9,$$\n",
    "$$l_{21}=\\frac{a_{21}}{l_{11}}=-5,$$\n",
    "$$l_{31}=\\frac{a_{31}}{l_{11}}=3,$$\n",
    "\n",
    "$$l_{22}=\\sqrt{a_{22}-u_{21}^{2}}=\\sqrt{50 - 25}=5,$$\n",
    "$$l_{32}=\\frac{1}{l_{22}}\\left ( a_{32}-l_{21}l_{31} \\right)=0.2\\left ( 15 - (-5)\\cdot 5 \\right )=2,$$\n",
    "\n",
    "$$l_{33}=\\sqrt{a_{33}-l_{31}^{2}-l_{32}^{2}}=\\sqrt{38-25-4}=3.$$\n"
   ]
  },
  {
   "cell_type": "markdown",
   "metadata": {},
   "source": [
    "Получили матрицу \n",
    "\n",
    "$$L = \\begin{pmatrix}\n",
    "9 & 0 & 0 \\\\ \n",
    "-5 & 5 & 0 \\\\ \n",
    "5 & 2 & 3\n",
    "\\end{pmatrix}, \n",
    "\\; \\; \n",
    "L^{T} = \\begin{pmatrix}\n",
    "9 & -5 & 5 \\\\\n",
    "0 & 5 & 2\\\\ \n",
    "0 & 0 & 3\n",
    "\\end{pmatrix}.$$"
   ]
  },
  {
   "cell_type": "markdown",
   "metadata": {},
   "source": [
    "Решим систему $Ly=b:$\n",
    "\n",
    "$$\\begin{cases}\n",
    "9y_{1}=531, \\\\\n",
    "-5y_{1}+5y_{2}=-460, \\\\\n",
    "5y_{1}+2y_{2}+3y_{3}=193.\n",
    "\\end{cases}$$\n",
    "\n",
    "$$y_{1} = 59,$$\n",
    "\n",
    "$$y_{2}=-82.5,$$\n",
    "\n",
    "$$y_{3}=21.$$"
   ]
  },
  {
   "cell_type": "markdown",
   "metadata": {},
   "source": [
    "И решим систему $L^{T}x=y:$\n",
    "\n",
    "$$\\begin{cases}\n",
    "9x_{1}-5x_{2}+5x_{3}=59, \\\\\n",
    "5x_{2}+2x_{3}=-82.5, \\\\\n",
    "3x_{3}=21.\n",
    "\\end{cases}$$\n",
    "\n",
    "$$x_{3}=7,$$\n",
    "\n",
    "$$x_{2}=-19.3,$$\n",
    "\n",
    "$$x_{1}=-8.06.$$"
   ]
  }
 ],
 "metadata": {
  "kernelspec": {
   "display_name": "Python 3",
   "language": "python",
   "name": "python3"
  },
  "language_info": {
   "codemirror_mode": {
    "name": "ipython",
    "version": 3
   },
   "file_extension": ".py",
   "mimetype": "text/x-python",
   "name": "python",
   "nbconvert_exporter": "python",
   "pygments_lexer": "ipython3",
   "version": "3.7.1"
  }
 },
 "nbformat": 4,
 "nbformat_minor": 2
}
